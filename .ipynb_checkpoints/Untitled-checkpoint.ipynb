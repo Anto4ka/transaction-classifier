{
 "cells": [
  {
   "cell_type": "code",
   "execution_count": 1,
   "metadata": {},
   "outputs": [],
   "source": [
    "import csv\n",
    "import pandas as pd\n",
    "import sklearn\n",
    "\n",
    "\n",
    "trans = pd.read_csv(\"transactions.csv\", sep=\";\")\n",
    "\n",
    "\n",
    "\n",
    "buchungstexte = trans[\"Buchungstext\"].value_counts()\n",
    "groupbuchung = trans.groupby(\"Buchungstext\").count()\n",
    "#print(trans[trans.Buchungstext == \"Lastschrift (Einzugsermächtigung)\"])\n",
    "\n"
   ]
  },
  {
   "cell_type": "code",
   "execution_count": 2,
   "metadata": {
    "scrolled": false
   },
   "outputs": [],
   "source": [
    "colNames = trans.columns.values\n",
    "buchungstexte = trans.Buchungstext.values\n",
    "verwendungszwecke = trans.Verwendungszweck.values\n",
    "adressate = trans[\"Beguenstigter/Zahlungspflichtiger\"].values\n",
    "kontonummern = trans.Kontonummer.values"
   ]
  },
  {
   "cell_type": "code",
   "execution_count": 3,
   "metadata": {},
   "outputs": [],
   "source": [
    "#Convert date to weekday, for smaller \n",
    "dates = pd.to_datetime(trans.Buchungstag)\n",
    "trans[\"Wochentag\"] = dates.dt.day_name()\n"
   ]
  },
  {
   "cell_type": "code",
   "execution_count": 4,
   "metadata": {},
   "outputs": [],
   "source": [
    "#Drop Waehrung, because it does not provide any information (every transaction is in euros)\n",
    "#Drop Unnamed, because it only provides index, which pandas already does\n",
    "#Drop Auftragskonto, because more than a 100 entries do not have a value. Also, there are only 2 unique values\n",
    "#Drop Valutadatum, because in only one instance does Valutadatum not equal Buchungstag\n",
    "trans.drop(columns=[\"Waehrung\", \"Unnamed: 0\", \"Auftragskonto\", \"Valutadatum\", \"BLZ\", \"Buchungstag\", \"Kontonummer\", \"Beguenstigter/Zahlungspflichtiger\"], inplace=True)"
   ]
  },
  {
   "cell_type": "code",
   "execution_count": 84,
   "metadata": {},
   "outputs": [],
   "source": [
    "#trans[trans.Wochentag.isin([\"Saturday\", \"Sunday\"])][[\"label\", \"Wochentag\"]]\n",
    "#trans[trans.label == \"leisure\"][\"Wochentag\"].value_counts()\n",
    "verwendungszwecke = trans.Verwendungszweck.values\n",
    "tage = trans.Wochentag.values\n",
    "\n",
    "from sklearn.feature_extraction.text import CountVectorizer\n",
    "\n",
    "count_vector = CountVectorizer()\n",
    "count_vector.fit(verwendungszwecke)\n",
    "verwendungszweckVector = count_vector.get_feature_names()\n",
    "#TO-DO: Cleanup Voocabulary\n",
    "#TO-DO: Remove stop words (if necessary)\n",
    "\n",
    "\n",
    "\n"
   ]
  },
  {
   "cell_type": "code",
   "execution_count": 85,
   "metadata": {},
   "outputs": [],
   "source": [
    "doc_array = count_vector.transform(verwendungszwecke).toarray()\n",
    "\n"
   ]
  },
  {
   "cell_type": "code",
   "execution_count": 86,
   "metadata": {},
   "outputs": [],
   "source": [
    "frequency_matrix = pd.DataFrame(data=doc_array, columns=verwendungszweckVector)\n"
   ]
  },
  {
   "cell_type": "code",
   "execution_count": 87,
   "metadata": {},
   "outputs": [
    {
     "name": "stdout",
     "output_type": "stream",
     "text": [
      "Number of rows in the total set: 209\n",
      "Number of rows in the training set: 156\n",
      "Number of rows in the test set: 53\n"
     ]
    }
   ],
   "source": [
    "# split into training and testing sets\n",
    "from sklearn.model_selection import train_test_split\n",
    "\n",
    "df = trans[[\"Verwendungszweck\", \"label\", \"Wochentag\"]]\n",
    "\n",
    "X_train, X_test, y_train, y_test = train_test_split(df['Verwendungszweck'], df['label'], random_state=1)\n",
    "\n",
    "print('Number of rows in the total set: {}'.format(df.shape[0]))\n",
    "\n",
    "print('Number of rows in the training set: {}'.format(X_train.shape[0]))\n",
    "\n",
    "print('Number of rows in the test set: {}'.format(X_test.shape[0]))\n",
    "\n",
    "# Instantiate the CountVectorizer method\n",
    "count_vector = CountVectorizer()\n",
    "\n",
    "# Fit the training data and then return the matrix\n",
    "training_data = count_vector.fit_transform(X_train)\n",
    "\n",
    "# Transform testing data and return the matrix. Note we are not fitting the testing data into the CountVectorizer()\n",
    "testing_data = count_vector.transform(X_test)\n"
   ]
  },
  {
   "cell_type": "code",
   "execution_count": 88,
   "metadata": {},
   "outputs": [
    {
     "data": {
      "text/plain": [
       "MultinomialNB(alpha=1.0, class_prior=None, fit_prior=True)"
      ]
     },
     "execution_count": 88,
     "metadata": {},
     "output_type": "execute_result"
    }
   ],
   "source": [
    "from sklearn.naive_bayes import MultinomialNB\n",
    "naive_bayes = MultinomialNB()\n",
    "naive_bayes.fit(training_data, y_train)"
   ]
  },
  {
   "cell_type": "code",
   "execution_count": 89,
   "metadata": {},
   "outputs": [],
   "source": [
    "predictions = naive_bayes.predict(testing_data)"
   ]
  },
  {
   "cell_type": "code",
   "execution_count": 90,
   "metadata": {},
   "outputs": [
    {
     "name": "stdout",
     "output_type": "stream",
     "text": [
      "Accuracy score:  0.8679245283018868\n",
      "Precision score:  0.90041928721174\n",
      "Recall score:  0.8679245283018868\n",
      "F1 score:  0.8515506044416574\n"
     ]
    }
   ],
   "source": [
    "from sklearn.metrics import accuracy_score, precision_score, recall_score, f1_score\n",
    "\n",
    "print('Accuracy score: ', format(accuracy_score(y_test, predictions)))\n",
    "\n",
    "print('Precision score: ', format(precision_score(y_test, predictions,average='weighted')))\n",
    "\n",
    "print('Recall score: ', format(recall_score(y_test, predictions,average='weighted')))\n",
    "\n",
    "print('F1 score: ', format(f1_score(y_test, predictions,average='weighted')))"
   ]
  },
  {
   "cell_type": "code",
   "execution_count": null,
   "metadata": {},
   "outputs": [],
   "source": []
  },
  {
   "cell_type": "code",
   "execution_count": null,
   "metadata": {},
   "outputs": [],
   "source": []
  },
  {
   "cell_type": "code",
   "execution_count": null,
   "metadata": {},
   "outputs": [],
   "source": []
  }
 ],
 "metadata": {
  "kernelspec": {
   "display_name": "Python 3",
   "language": "python",
   "name": "python3"
  },
  "language_info": {
   "codemirror_mode": {
    "name": "ipython",
    "version": 3
   },
   "file_extension": ".py",
   "mimetype": "text/x-python",
   "name": "python",
   "nbconvert_exporter": "python",
   "pygments_lexer": "ipython3",
   "version": "3.6.7"
  }
 },
 "nbformat": 4,
 "nbformat_minor": 2
}
