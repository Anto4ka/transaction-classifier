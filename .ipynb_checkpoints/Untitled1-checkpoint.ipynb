{
 "cells": [
  {
   "cell_type": "code",
   "execution_count": 183,
   "metadata": {},
   "outputs": [],
   "source": [
    "import csv\n",
    "import pandas as pd\n",
    "import pandas as pd\n",
    "import sklearn \n",
    "from sklearn.pipeline import Pipeline, FeatureUnion \n",
    "from sklearn.feature_extraction.text import TfidfTransformer\n",
    "import numpy as np\n",
    "from sklearn.feature_extraction.text import CountVectorizer\n",
    "from sklearn.multiclass import OneVsRestClassifier\n",
    "from sklearn.preprocessing import FunctionTransformer\n",
    "from sklearn.svm import LinearSVC\n",
    "\n",
    "\n",
    "\n",
    "df = pd.read_csv(\"transactions.csv\", sep=\";\")[[\"Verwendungszweck\", \"label\", \"Betrag\"]]\n",
    "\n",
    "\n",
    "def numberfy(x):\n",
    "    x = float(x.replace(\",\",\".\"))\n",
    "    x = abs(int(x))\n",
    "    return x\n",
    "\n",
    "df.Betrag = df.Betrag.apply(numberfy)\n",
    "\n",
    "\n"
   ]
  },
  {
   "cell_type": "code",
   "execution_count": 187,
   "metadata": {},
   "outputs": [
    {
     "name": "stdout",
     "output_type": "stream",
     "text": [
      "Number of rows in the total set: 209\n",
      "Number of rows in the training set: 156\n",
      "Number of rows in the test set: 53\n"
     ]
    }
   ],
   "source": [
    "from sklearn.model_selection import train_test_split\n",
    "from sklearn.feature_extraction.text import CountVectorizer\n",
    "from sklearn.pipeline import Pipeline\n",
    "from sklearn.impute import SimpleImputer\n",
    "from sklearn.preprocessing import StandardScaler, KBinsDiscretizer\n",
    "\n",
    "X_train, X_test, y_train, y_test = train_test_split(df[['Verwendungszweck', \"Betrag\"]], df['label'], random_state=1)\n",
    "\n",
    "\n",
    "print('Number of rows in the total set: {}'.format(df.shape[0]))\n",
    "\n",
    "print('Number of rows in the training set: {}'.format(X_train.shape[0]))\n",
    "\n",
    "print('Number of rows in the test set: {}'.format(X_test.shape[0]))\n",
    "\n",
    "\n",
    "\n",
    "\n",
    "text_transformer = Pipeline([('vect', CountVectorizer()),\n",
    "                             ('tfidf', TfidfTransformer())\n",
    "                            ])\n",
    "\n",
    "\n",
    "numberfy = FunctionTransformer(None)\n",
    "\n",
    "betrag_transformer = Pipeline(steps=[\n",
    "    ('imputer', SimpleImputer(strategy='median')),\n",
    "    (\"dicretizer\", KBinsDiscretizer(n_bins=5, encode='ordinal', strategy='uniform'))])\n"
   ]
  },
  {
   "cell_type": "code",
   "execution_count": 188,
   "metadata": {},
   "outputs": [],
   "source": [
    "\n",
    "\n",
    "from sklearn.compose import ColumnTransformer\n",
    "\n",
    "preprocessor = ColumnTransformer(\n",
    "    transformers=[\n",
    "        ('num', betrag_transformer, [\"Betrag\"]),\n",
    "        ('text', text_transformer, \"Verwendungszweck\")])\n"
   ]
  },
  {
   "cell_type": "code",
   "execution_count": 189,
   "metadata": {},
   "outputs": [],
   "source": [
    "from sklearn.naive_bayes import MultinomialNB\n",
    "\n",
    "rf = Pipeline(steps=[('preprocessor', preprocessor),\n",
    "                      ('classifier', MultinomialNB())])\n",
    "\n",
    "rf.fit(X_train, y_train)\n",
    "\n",
    "predictions = rf.predict(X_test)"
   ]
  },
  {
   "cell_type": "code",
   "execution_count": 190,
   "metadata": {},
   "outputs": [
    {
     "name": "stdout",
     "output_type": "stream",
     "text": [
      "Accuracy score:  0.8490566037735849\n",
      "Precision score:  0.8839098532494759\n",
      "Recall score:  0.8490566037735849\n",
      "F1 score:  0.8325859213260308\n"
     ]
    }
   ],
   "source": [
    "from sklearn.metrics import accuracy_score, precision_score, recall_score, f1_score\n",
    "\n",
    "print('Accuracy score: ', format(accuracy_score(y_test, predictions)))\n",
    "\n",
    "print('Precision score: ', format(precision_score(y_test, predictions,average='weighted')))\n",
    "\n",
    "print('Recall score: ', format(recall_score(y_test, predictions,average='weighted')))\n",
    "\n",
    "print('F1 score: ', format(f1_score(y_test, predictions,average='weighted')))"
   ]
  },
  {
   "cell_type": "code",
   "execution_count": null,
   "metadata": {},
   "outputs": [],
   "source": []
  },
  {
   "cell_type": "code",
   "execution_count": null,
   "metadata": {},
   "outputs": [],
   "source": []
  }
 ],
 "metadata": {
  "kernelspec": {
   "display_name": "Python 3",
   "language": "python",
   "name": "python3"
  },
  "language_info": {
   "codemirror_mode": {
    "name": "ipython",
    "version": 3
   },
   "file_extension": ".py",
   "mimetype": "text/x-python",
   "name": "python",
   "nbconvert_exporter": "python",
   "pygments_lexer": "ipython3",
   "version": "3.6.7"
  }
 },
 "nbformat": 4,
 "nbformat_minor": 2
}
