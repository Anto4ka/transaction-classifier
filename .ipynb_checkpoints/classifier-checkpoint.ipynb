{
 "cells": [
  {
   "cell_type": "code",
   "execution_count": 1,
   "metadata": {},
   "outputs": [],
   "source": [
    "import csv\n",
    "import pandas as pd\n",
    "\n",
    "import numpy as np\n",
    "\n",
    "df = pd.read_csv(\"transactions.csv\", sep=\";\")\n",
    "\n",
    "def numberfy(x):\n",
    "    x = float(x.replace(\",\",\".\"))\n",
    "    x = abs(int(x))\n",
    "    return x\n",
    "\n",
    "df.Betrag = df.Betrag.apply(numberfy)"
   ]
  },
  {
   "cell_type": "code",
   "execution_count": 2,
   "metadata": {},
   "outputs": [
    {
     "name": "stdout",
     "output_type": "stream",
     "text": [
      "Number of rows in the total set: 209\n",
      "Number of rows in the training set: 156\n",
      "Number of rows in the test set: 53\n"
     ]
    }
   ],
   "source": [
    "from sklearn.model_selection import train_test_split\n",
    "from sklearn.feature_extraction.text import CountVectorizer, TfidfTransformer\n",
    "from sklearn.pipeline import Pipeline\n",
    "from sklearn.impute import SimpleImputer\n",
    "from sklearn.preprocessing import StandardScaler, KBinsDiscretizer, OneHotEncoder\n",
    "\n",
    "X_train, X_test, y_train, y_test = train_test_split(df[['Verwendungszweck', \"Betrag\", \"Buchungstext\"]], df['label'], random_state=1)\n",
    "\n",
    "\n",
    "print('Number of rows in the total set: {}'.format(df.shape[0]))\n",
    "\n",
    "print('Number of rows in the training set: {}'.format(X_train.shape[0]))\n",
    "\n",
    "print('Number of rows in the test set: {}'.format(X_test.shape[0]))\n",
    "\n",
    "\n",
    "text_transformer = Pipeline([('vect', CountVectorizer()),\n",
    "                             ('tfidf', TfidfTransformer())\n",
    "                            ])\n",
    "\n",
    "betrag_transformer = Pipeline(steps=[\n",
    "    ('imputer', SimpleImputer(strategy='median')),\n",
    "    (\"dicretizer\", KBinsDiscretizer(n_bins=3, encode='ordinal', strategy='uniform'))])\n",
    "\n",
    "\n",
    "category_transformer = Pipeline(steps=[\n",
    "    ('imputer', SimpleImputer(strategy='constant', fill_value='missing')),\n",
    "    ('onehot', OneHotEncoder(handle_unknown='ignore'))])"
   ]
  },
  {
   "cell_type": "code",
   "execution_count": 3,
   "metadata": {},
   "outputs": [],
   "source": [
    "from sklearn.compose import ColumnTransformer\n",
    "\n",
    "preprocessor = ColumnTransformer(\n",
    "    transformers=[\n",
    "        ('num', betrag_transformer, [\"Betrag\"]),\n",
    "        ('text', text_transformer, \"Verwendungszweck\"),\n",
    "        ('categories', category_transformer, [\"Buchungstext\"])])\n"
   ]
  },
  {
   "cell_type": "code",
   "execution_count": 4,
   "metadata": {},
   "outputs": [],
   "source": [
    "from sklearn.naive_bayes import MultinomialNB\n",
    "\n",
    "rf = Pipeline(steps=[('preprocessor', preprocessor),\n",
    "                      ('classifier', MultinomialNB())])\n",
    "\n"
   ]
  },
  {
   "cell_type": "code",
   "execution_count": 5,
   "metadata": {},
   "outputs": [
    {
     "name": "stdout",
     "output_type": "stream",
     "text": [
      "Accuracy score:  0.9056603773584906\n",
      "Precision score(weighted):  0.9318658280922432\n",
      "Recall score(weighted):  0.9056603773584906\n",
      "F1 score(weighted):  0.9041520910054082\n"
     ]
    }
   ],
   "source": [
    "from sklearn.metrics import accuracy_score, precision_score, recall_score, f1_score, confusion_matrix\n",
    "rf.fit(X_train, y_train)\n",
    "\n",
    "predictions = rf.predict(X_test)\n",
    "print('Accuracy score: ', format(accuracy_score(y_test, predictions)))\n",
    "\n",
    "print('Precision score(weighted): ', format(precision_score(y_test, predictions,average='weighted')))\n",
    "\n",
    "print('Recall score(weighted): ', format(recall_score(y_test, predictions,average='weighted')))\n",
    "\n",
    "print('F1 score(weighted): ', format(f1_score(y_test, predictions,average='weighted')))"
   ]
  },
  {
   "cell_type": "code",
   "execution_count": null,
   "metadata": {},
   "outputs": [],
   "source": []
  }
 ],
 "metadata": {
  "kernelspec": {
   "display_name": "Python 3",
   "language": "python",
   "name": "python3"
  },
  "language_info": {
   "codemirror_mode": {
    "name": "ipython",
    "version": 3
   },
   "file_extension": ".py",
   "mimetype": "text/x-python",
   "name": "python",
   "nbconvert_exporter": "python",
   "pygments_lexer": "ipython3",
   "version": "3.6.7"
  }
 },
 "nbformat": 4,
 "nbformat_minor": 2
}
