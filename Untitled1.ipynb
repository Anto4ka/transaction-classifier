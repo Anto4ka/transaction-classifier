{
 "cells": [
  {
   "cell_type": "code",
   "execution_count": 4,
   "metadata": {},
   "outputs": [],
   "source": [
    "import csv\n",
    "import pandas as pd\n",
    "import pandas as pd\n",
    "import sklearn \n",
    "from sklearn.pipeline import Pipeline, FeatureUnion \n",
    "from sklearn.feature_extraction.text import TfidfTransformer\n",
    "import numpy as np\n",
    "from sklearn.feature_extraction.text import CountVectorizer\n",
    "from sklearn.multiclass import OneVsRestClassifier\n",
    "from sklearn.preprocessing import FunctionTransformer\n",
    "from sklearn.svm import LinearSVC\n",
    "\n",
    "\n",
    "\n",
    "df = pd.read_csv(\"transactions.csv\", sep=\";\")[[\"Verwendungszweck\", \"label\", \"Betrag\"]]\n"
   ]
  },
  {
   "cell_type": "code",
   "execution_count": 8,
   "metadata": {},
   "outputs": [
    {
     "name": "stdout",
     "output_type": "stream",
     "text": [
      "Number of rows in the total set: 209\n",
      "Number of rows in the training set: 156\n",
      "Number of rows in the test set: 53\n"
     ]
    }
   ],
   "source": [
    "from sklearn.model_selection import train_test_split\n",
    "from sklearn.feature_extraction.text import CountVectorizer\n",
    "\n",
    "X_train, X_test, y_train, y_test = train_test_split(df[['Verwendungszweck', \"Betrag\"]], df['label'], random_state=1)\n",
    "#X_train, X_test, y_train, y_test = train_test_split(df['Verwendungszweck'], df['label'], random_state=1)\n",
    "\n",
    "print('Number of rows in the total set: {}'.format(df.shape[0]))\n",
    "\n",
    "print('Number of rows in the training set: {}'.format(X_train.shape[0]))\n",
    "\n",
    "print('Number of rows in the test set: {}'.format(X_test.shape[0]))\n",
    "\n",
    "\n",
    "\n",
    "# Instantiate the CountVectorizer method\n",
    "count_vector = CountVectorizer()\n",
    "count_vector.fit(df.Verwendungszweck.values)\n",
    "# Fit the training data and then return the matrix\n",
    "\n",
    "#vz := Verwendungszweck\n",
    "training_data = count_vector.transform(X_train[\"Verwendungszweck\"])\n",
    "\n",
    "# Transform testing data and return the matrix. Note we are not fitting the testing data into the CountVectorizer()\n",
    "testing_data = count_vector.transform(X_test[\"Verwendungszweck\"])\n"
   ]
  },
  {
   "cell_type": "code",
   "execution_count": 9,
   "metadata": {},
   "outputs": [],
   "source": [
    "from sklearn.naive_bayes import MultinomialNB\n",
    "naive_bayes = MultinomialNB()\n",
    "naive_bayes.fit(training_data, y_train)\n",
    "\n",
    "predictions = naive_bayes.predict(testing_data)"
   ]
  },
  {
   "cell_type": "code",
   "execution_count": 10,
   "metadata": {},
   "outputs": [
    {
     "name": "stdout",
     "output_type": "stream",
     "text": [
      "Accuracy score:  0.8679245283018868\n",
      "Precision score:  0.893212788259958\n",
      "Recall score:  0.8679245283018868\n",
      "F1 score:  0.8492288423160251\n"
     ]
    }
   ],
   "source": [
    "from sklearn.metrics import accuracy_score, precision_score, recall_score, f1_score\n",
    "\n",
    "print('Accuracy score: ', format(accuracy_score(y_test, predictions)))\n",
    "\n",
    "print('Precision score: ', format(precision_score(y_test, predictions,average='weighted')))\n",
    "\n",
    "print('Recall score: ', format(recall_score(y_test, predictions,average='weighted')))\n",
    "\n",
    "print('F1 score: ', format(f1_score(y_test, predictions,average='weighted')))"
   ]
  },
  {
   "cell_type": "code",
   "execution_count": null,
   "metadata": {},
   "outputs": [],
   "source": []
  },
  {
   "cell_type": "code",
   "execution_count": null,
   "metadata": {},
   "outputs": [],
   "source": []
  }
 ],
 "metadata": {
  "kernelspec": {
   "display_name": "Python 3",
   "language": "python",
   "name": "python3"
  },
  "language_info": {
   "codemirror_mode": {
    "name": "ipython",
    "version": 3
   },
   "file_extension": ".py",
   "mimetype": "text/x-python",
   "name": "python",
   "nbconvert_exporter": "python",
   "pygments_lexer": "ipython3",
   "version": "3.6.7"
  }
 },
 "nbformat": 4,
 "nbformat_minor": 2
}
