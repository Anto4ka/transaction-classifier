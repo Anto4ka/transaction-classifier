{
 "cells": [
  {
   "cell_type": "code",
   "execution_count": 12,
   "metadata": {},
   "outputs": [],
   "source": [
    "import csv\n",
    "import pandas as pd\n",
    "import numpy as np\n",
    "from sklearn.model_selection import train_test_split\n",
    "from sklearn.feature_extraction.text import CountVectorizer, TfidfTransformer\n",
    "from sklearn.pipeline import Pipeline\n",
    "from sklearn.impute import SimpleImputer\n",
    "from sklearn.preprocessing import StandardScaler, KBinsDiscretizer, OneHotEncoder\n",
    "from sklearn.compose import ColumnTransformer\n",
    "from sklearn.metrics import accuracy_score, precision_score, recall_score, f1_score, confusion_matrix\n",
    "from sklearn.naive_bayes import MultinomialNB\n",
    "\n",
    "df = pd.read_csv(\"transactions.csv\", sep=\";\")\n",
    "\n",
    "def numberfy(x):\n",
    "    x = float(x.replace(\",\",\".\"))\n",
    "    x = abs(int(x))\n",
    "    return x\n",
    "\n",
    "df.Betrag = df.Betrag.apply(numberfy)\n",
    "\n",
    "df[\"Wochentag\"] = pd.to_datetime(df.Buchungstag).dt.weekday_name\n"
   ]
  },
  {
   "cell_type": "code",
   "execution_count": 14,
   "metadata": {},
   "outputs": [],
   "source": [
    "def buildPipeline(numeric, text, categories):\n",
    "    #numeric and categories have to be lists\n",
    "    \n",
    "    text_transformer = Pipeline([('vect', CountVectorizer()),\n",
    "                                 ('tfidf', TfidfTransformer())\n",
    "                                ])\n",
    "\n",
    "    betrag_transformer = Pipeline(steps=[\n",
    "        ('imputer', SimpleImputer(strategy='median')),\n",
    "        (\"dicretizer\", KBinsDiscretizer(n_bins=3, encode='ordinal', strategy='uniform'))])\n",
    "\n",
    "\n",
    "    category_transformer = Pipeline(steps=[\n",
    "        ('imputer', SimpleImputer(strategy='constant', fill_value='missing')),\n",
    "        ('onehot', OneHotEncoder(handle_unknown='ignore'))])\n",
    "\n",
    "    preprocessor = ColumnTransformer(\n",
    "        transformers=[\n",
    "            ('num', betrag_transformer, numeric),\n",
    "            ('text', text_transformer, text),\n",
    "            ('categories', category_transformer, categories)])\n",
    "\n",
    "\n",
    "\n",
    "    rf = Pipeline(steps=[('preprocessor', preprocessor),\n",
    "                          ('classifier', MultinomialNB())])\n",
    "    return rf\n",
    "\n",
    "def predict(rf, X_train, y_train, X_test, y_test):\n",
    "    rf.fit(X_train, y_train)\n",
    "\n",
    "    predictions = rf.predict(X_test)\n",
    "    print('Accuracy score: ', format(accuracy_score(y_test, predictions)))\n",
    "\n",
    "    print('Precision score(weighted): ', format(precision_score(y_test, predictions,average='weighted')))\n",
    "\n",
    "    print('Recall score(weighted): ', format(recall_score(y_test, predictions,average='weighted')))\n",
    "\n",
    "    print('F1 score(weighted): ', format(f1_score(y_test, predictions,average='weighted')))\n"
   ]
  },
  {
   "cell_type": "code",
   "execution_count": 15,
   "metadata": {},
   "outputs": [
    {
     "name": "stdout",
     "output_type": "stream",
     "text": [
      "Number of rows in the total set: 209\n",
      "Number of rows in the training set: 156\n",
      "Number of rows in the test set: 53\n",
      "Accuracy score:  0.9056603773584906\n",
      "Precision score(weighted):  0.9318658280922432\n",
      "Recall score(weighted):  0.9056603773584906\n",
      "F1 score(weighted):  0.9041520910054082\n"
     ]
    }
   ],
   "source": [
    "X_train, X_test, y_train, y_test = train_test_split(df[['Verwendungszweck', \"Betrag\", \"Buchungstext\"]], df['label'], random_state=1)\n",
    "\n",
    "\n",
    "print('Number of rows in the total set: {}'.format(df.shape[0]))\n",
    "\n",
    "print('Number of rows in the training set: {}'.format(X_train.shape[0]))\n",
    "\n",
    "print('Number of rows in the test set: {}'.format(X_test.shape[0]))\n",
    "\n",
    "rf = buildPipeline([\"Betrag\"], \"Verwendungszweck\", [\"Buchungstext\"])\n",
    "\n",
    "predict(rf, X_train, y_train, X_test, y_test)"
   ]
  },
  {
   "cell_type": "code",
   "execution_count": 16,
   "metadata": {},
   "outputs": [
    {
     "name": "stdout",
     "output_type": "stream",
     "text": [
      "Number of rows in the total set: 209\n",
      "Number of rows in the training set: 156\n",
      "Number of rows in the test set: 53\n",
      "Accuracy score:  0.9056603773584906\n",
      "Precision score(weighted):  0.9318658280922432\n",
      "Recall score(weighted):  0.9056603773584906\n",
      "F1 score(weighted):  0.9076241605152134\n"
     ]
    }
   ],
   "source": [
    "X_train, X_test, y_train, y_test = train_test_split(df[['Verwendungszweck', \"Betrag\", \"Buchungstext\", \"Wochentag\"]], df['label'], random_state=1)\n",
    "\n",
    "rf = buildPipeline([\"Betrag\"], \"Verwendungszweck\", [\"Buchungstext\", \"Wochentag\"])\n",
    "\n",
    "predict(rf, X_train, y_train, X_test, y_test)"
   ]
  },
  {
   "cell_type": "code",
   "execution_count": null,
   "metadata": {},
   "outputs": [],
   "source": []
  }
 ],
 "metadata": {
  "kernelspec": {
   "display_name": "Python 3",
   "language": "python",
   "name": "python3"
  },
  "language_info": {
   "codemirror_mode": {
    "name": "ipython",
    "version": 3
   },
   "file_extension": ".py",
   "mimetype": "text/x-python",
   "name": "python",
   "nbconvert_exporter": "python",
   "pygments_lexer": "ipython3",
   "version": "3.6.7"
  }
 },
 "nbformat": 4,
 "nbformat_minor": 2
}
